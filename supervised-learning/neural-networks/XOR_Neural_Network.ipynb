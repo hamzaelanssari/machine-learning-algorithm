{
 "cells": [
  {
   "cell_type": "markdown",
   "metadata": {},
   "source": [
    "# Implemeting neural network for XOR problem with tensorflow"
   ]
  },
  {
   "cell_type": "markdown",
   "metadata": {},
   "source": [
    "###### import some libraries"
   ]
  },
  {
   "cell_type": "code",
   "execution_count": 15,
   "metadata": {},
   "outputs": [],
   "source": [
    "#For intaller just write in your venv this link\n",
    "#pip install tensorflow\n",
    "import tensorflow as tf\n",
    "import numpy as np"
   ]
  },
  {
   "cell_type": "markdown",
   "metadata": {},
   "source": [
    "###### Colleting Dataset"
   ]
  },
  {
   "cell_type": "code",
   "execution_count": 16,
   "metadata": {},
   "outputs": [],
   "source": [
    "X = np.array([[1, 0], [0, 1], [1, 1], [0, 0]])\n",
    "y = np.array([[1], [1], [0], [0]])"
   ]
  },
  {
   "cell_type": "markdown",
   "metadata": {},
   "source": [
    "###### Define a placeholder for input x and output y"
   ]
  },
  {
   "cell_type": "code",
   "execution_count": 21,
   "metadata": {},
   "outputs": [],
   "source": [
    "# If you have this error after an upgrade to \n",
    "# TensorFlow 2.0, you can still use 1.X API by replacing:\n",
    "# dummy nodes: provide entry computational graph\n",
    "import tensorflow.compat.v1 as tf\n",
    "tf.disable_v2_behavior()\n",
    "\n",
    "phX = tf.placeholder(tf.float32, [None, 2])\n",
    "phY = tf.placeholder(tf.float32, [None, 1])"
   ]
  },
  {
   "cell_type": "markdown",
   "metadata": {},
   "source": [
    "###### Foward function and init weights"
   ]
  },
  {
   "cell_type": "code",
   "execution_count": 25,
   "metadata": {},
   "outputs": [],
   "source": [
    "def forward(x, w1, b1, w2, b2, train=True):\n",
    "    Z = tf.nn.sigmoid(tf.matmul(x, w1) + b1)\n",
    "    Z2 = tf.matmul(Z, w2) + b2\n",
    "    if train:\n",
    "        return Z2\n",
    "    return tf.nn.sigmoid(Z2)\n",
    "#Variables are in-memory buffers containing tensors\n",
    "def init_weight(shape):\n",
    "    return tf.Variable(tf.random_normal(shape, stddev=0.05), name='layers')\n"
   ]
  },
  {
   "cell_type": "markdown",
   "metadata": {},
   "source": [
    "###### Init weights & 7 hide nodes"
   ]
  },
  {
   "cell_type": "code",
   "execution_count": 36,
   "metadata": {},
   "outputs": [],
   "source": [
    "#Create Tensorflow variables must\n",
    "#initialized.\n",
    "w1 = init_weight([2, 7])\n",
    "b1 = init_weight([7])\n",
    "w2 = init_weight([7, 1])\n",
    "b2 = init_weight([1])"
   ]
  },
  {
   "cell_type": "code",
   "execution_count": 37,
   "metadata": {},
   "outputs": [],
   "source": [
    "y_hat = forward(phX, w1, b1, w2, b2)\n",
    "predict = forward(phX, w1, b1, w2, b2, False)"
   ]
  },
  {
   "cell_type": "markdown",
   "metadata": {},
   "source": [
    "###### Init learning rate, epochs, cost function"
   ]
  },
  {
   "cell_type": "code",
   "execution_count": 58,
   "metadata": {},
   "outputs": [],
   "source": [
    "lr = 0.01\n",
    "epochs = 500\n",
    "cost = tf.reduce_mean(\n",
    "        tf.nn.sigmoid_cross_entropy_with_logits(logits=y_hat, \n",
    "                                                labels=phY))"
   ]
  },
  {
   "cell_type": "markdown",
   "metadata": {},
   "source": [
    "###### Init train function with Adam optimizer"
   ]
  },
  {
   "cell_type": "code",
   "execution_count": 59,
   "metadata": {},
   "outputs": [],
   "source": [
    "train = tf.train.AdamOptimizer(lr).minimize(cost)\n",
    "# train = tf.train.RMSPropOptimizer(lr).minimize(cost)"
   ]
  },
  {
   "cell_type": "markdown",
   "metadata": {},
   "source": [
    "###### Save costs for ploting"
   ]
  },
  {
   "cell_type": "code",
   "execution_count": 60,
   "metadata": {},
   "outputs": [],
   "source": [
    "costs = []\n",
    "\n",
    "# create a session and init variables\n",
    "# Session object encapsulates the environment in which Tensor objects \n",
    "# are evaluated\n",
    "init = tf.global_variables_initializer()\n",
    "sess = tf.Session()\n",
    "sess.run(init)"
   ]
  },
  {
   "cell_type": "code",
   "execution_count": 61,
   "metadata": {},
   "outputs": [
    {
     "name": "stdout",
     "output_type": "stream",
     "text": [
      "Interation 0. Cost: 0.6939716339111328.\n",
      "Interation 100. Cost: 0.6870753169059753.\n",
      "Interation 200. Cost: 0.3541625142097473.\n",
      "Interation 300. Cost: 0.09847608208656311.\n",
      "Interation 400. Cost: 0.04580620676279068.\n",
      "Training complete.\n"
     ]
    }
   ],
   "source": [
    "#start training\n",
    "for i in range(epochs):\n",
    "    sess.run(train, feed_dict={phX: X, phY:y})\n",
    "    \n",
    "    c = sess.run(cost, feed_dict={phX: X, phY:y})\n",
    "    costs.append(c)\n",
    "    if i % 100 == 0:\n",
    "        print(f\"Interation {i}. Cost: {c}.\")\n",
    "    \n",
    "print(\"Training complete.\")"
   ]
  },
  {
   "cell_type": "markdown",
   "metadata": {},
   "source": [
    "###### Make prediction"
   ]
  },
  {
   "cell_type": "code",
   "execution_count": 62,
   "metadata": {},
   "outputs": [
    {
     "name": "stdout",
     "output_type": "stream",
     "text": [
      "Percentages: [[0.9668384 ]\n",
      " [0.9918527 ]\n",
      " [0.03783179]\n",
      " [0.0295058 ]]\n",
      "Prediction: [[1.]\n",
      " [1.]\n",
      " [0.]\n",
      " [0.]]\n"
     ]
    }
   ],
   "source": [
    "prediction = sess.run(predict, feed_dict={phX: X})\n",
    "print(\"Percentages: {}\".format(prediction))\n",
    "print(\"Prediction: {}\".format(np.round(prediction)))"
   ]
  },
  {
   "cell_type": "markdown",
   "metadata": {},
   "source": [
    "###### Plot cost"
   ]
  },
  {
   "cell_type": "code",
   "execution_count": 63,
   "metadata": {
    "scrolled": false
   },
   "outputs": [
    {
     "data": {
      "image/png": "[encoded data removed]",
      "text/plain": [
       "<Figure size 432x288 with 1 Axes>"
      ]
     },
     "metadata": {
      "needs_background": "light"
     },
     "output_type": "display_data"
    }
   ],
   "source": [
    "import matplotlib.pyplot as plt\n",
    "%matplotlib inline\n",
    "\n",
    "plt.plot(costs)\n",
    "plt.show()"
   ]
  },
  {
   "cell_type": "markdown",
   "metadata": {},
   "source": [
    "# Implementing XOR gate using  Neural Network "
   ]
  },
  {
   "cell_type": "code",
   "execution_count": 1,
   "metadata": {},
   "outputs": [],
   "source": [
    "import numpy as np"
   ]
  },
  {
   "cell_type": "code",
   "execution_count": 2,
   "metadata": {},
   "outputs": [],
   "source": [
    "# Colleting the input and output (labels)\n",
    "X = np.array([[0,0], [0,1], [1,0], [1, 1]])\n",
    "y = np.array([[0,1,1,0]]).T\n",
    "\n",
    "\n",
    "# initializing m of train and n of features (input)\n",
    "m = X.shape[0] \n",
    "n = X.shape[1]\n",
    "\n",
    "# initializing hidden layer size\n",
    "size_layers = 2 \n",
    "\n",
    "learning_rate = 0.1"
   ]
  },
  {
   "cell_type": "markdown",
   "metadata": {},
   "source": [
    "#### We initialize the weights that our model learns first as matrices of random variables.\n",
    "\n",
    "#### Generally the dimensions for each weight vector: size_cur_layer + 1, size_nex_layer"
   ]
  },
  {
   "cell_type": "code",
   "execution_count": 3,
   "metadata": {},
   "outputs": [],
   "source": [
    "theta_weight_1 = (np.random.random((n+1, size_layers)))\n",
    "theta_weight_2 = (np.random.random((size_layers+1, 1)))"
   ]
  },
  {
   "cell_type": "code",
   "execution_count": 4,
   "metadata": {},
   "outputs": [],
   "source": [
    "def sigmoid(z):\n",
    "    return 1/(1+np.exp(-z))\n",
    "\n",
    "\n",
    "def forward(X, theta_weight_1, theta_weight_2):\n",
    "    # first layer\n",
    "    b1 = np.c_[np.ones(m), X]\n",
    "    z_hidden = b1.dot(theta_weight_1)\n",
    "    \n",
    "    # second layer\n",
    "    b2 = np.c_[np.ones(m), sigmoid(z_hidden)]\n",
    "    z_output = b2.dot(theta_weight_2)\n",
    "    \n",
    "    # output\n",
    "    output = sigmoid(z_output)\n",
    "    \n",
    "    return output, z_output, b2, z_hidden, b1\n",
    "    "
   ]
  },
  {
   "cell_type": "code",
   "execution_count": 5,
   "metadata": {},
   "outputs": [
    {
     "name": "stdout",
     "output_type": "stream",
     "text": [
      "Interation 0.\n",
      "Interation 100.\n",
      "Interation 200.\n",
      "Interation 300.\n",
      "Interation 400.\n",
      "Interation 500.\n",
      "Interation 600.\n",
      "Interation 700.\n",
      "Interation 800.\n",
      "Interation 900.\n",
      "Interation 1000.\n",
      "Interation 1100.\n",
      "Interation 1200.\n",
      "Interation 1300.\n",
      "Interation 1400.\n",
      "Interation 1500.\n",
      "Interation 1600.\n",
      "Interation 1700.\n",
      "Interation 1800.\n",
      "Interation 1900.\n"
     ]
    }
   ],
   "source": [
    "def sigmoid_grad(z):\n",
    "    grad = sigmoid(z)\n",
    "    return grad * (1-grad)\n",
    "\n",
    "epochs = 2000\n",
    "\n",
    "#start training\n",
    "for i in range(epochs):\n",
    "    output, z_output, b2, z_hidden, b1 = forward(X, theta_weight_1, theta_weight_2)\n",
    "    \n",
    "    o_err = y-output\n",
    "    \n",
    "    # o erro e encontrado calculando o produto escalar\n",
    "    # a matris h_err recebe uma multiplicacao por elementos\n",
    "    # com a saida da primeira camada \n",
    "    # levando em conta a funcao de ativacao\n",
    "    h_err = o_err.dot(theta_weight_2[1:,:].T)\n",
    "    \n",
    "    delta_h = o_err\n",
    "    \n",
    "    delta_i = h_err*sigmoid_grad(z_hidden)\n",
    "    \n",
    "    theta_weight_1 += learning_rate*b1.T.dot(delta_i)\n",
    "    theta_weight_2 += learning_rate*b2.T.dot(delta_h)\n",
    "    \n",
    "    if i % 100 == 0:\n",
    "        print(f\"Interation {i}.\")"
   ]
  },
  {
   "cell_type": "code",
   "execution_count": 6,
   "metadata": {},
   "outputs": [
    {
     "name": "stdout",
     "output_type": "stream",
     "text": [
      "Predicted Values\n",
      "[[0.01638215]\n",
      " [0.49845663]\n",
      " [0.97105715]\n",
      " [0.51333885]]\n"
     ]
    }
   ],
   "source": [
    "print(\"Predicted Values\")\n",
    "print(output)"
   ]
  },
  {
   "cell_type": "markdown",
   "metadata": {},
   "source": [
    "###### Plot cost"
   ]
  },
  {
   "cell_type": "code",
   "execution_count": 8,
   "metadata": {},
   "outputs": [
    {
     "data": {
      "image/png": "[encoded data removed]",
      "text/plain": [
       "<Figure size 432x288 with 1 Axes>"
      ]
     },
     "metadata": {
      "needs_background": "light"
     },
     "output_type": "display_data"
    }
   ],
   "source": [
    "import matplotlib.pyplot as plt\n",
    "%matplotlib inline\n",
    "\n",
    "plt.plot(o_err)\n",
    "plt.show()"
   ]
  },
  {
   "cell_type": "code",
   "execution_count": null,
   "metadata": {},
   "outputs": [],
   "source": []
  }
 ],
 "metadata": {
  "kernelspec": {
   "display_name": "venv",
   "language": "python",
   "name": "venv"
  },
  "language_info": {
   "codemirror_mode": {
    "name": "ipython",
    "version": 3
   },
   "file_extension": ".py",
   "mimetype": "text/x-python",
   "name": "python",
   "nbconvert_exporter": "python",
   "pygments_lexer": "ipython3",
   "version": "3.7.4"
  }
 },
 "nbformat": 4,
 "nbformat_minor": 2
}
