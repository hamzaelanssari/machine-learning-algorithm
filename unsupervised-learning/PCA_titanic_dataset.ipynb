{
 "cells": [
  {
   "cell_type": "markdown",
   "metadata": {},
   "source": [
    "# PCA applied to Titanic dataset"
   ]
  },
  {
   "cell_type": "markdown",
   "metadata": {},
   "source": [
    "## Library Import"
   ]
  },
  {
   "cell_type": "code",
   "execution_count": 1,
   "metadata": {},
   "outputs": [],
   "source": [
    "# some librarys\n",
    "import numpy as np\n",
    "import pandas as pd"
   ]
  },
  {
   "cell_type": "markdown",
   "metadata": {},
   "source": [
    "## Collecting Data"
   ]
  },
  {
   "cell_type": "code",
   "execution_count": 2,
   "metadata": {},
   "outputs": [
    {
     "data": {
      "text/html": [
       "<div>\n",
       "<style scoped>\n",
       "    .dataframe tbody tr th:only-of-type {\n",
       "        vertical-align: middle;\n",
       "    }\n",
       "\n",
       "    .dataframe tbody tr th {\n",
       "        vertical-align: top;\n",
       "    }\n",
       "\n",
       "    .dataframe thead th {\n",
       "        text-align: right;\n",
       "    }\n",
       "</style>\n",
       "<table border=\"1\" class=\"dataframe\">\n",
       "  <thead>\n",
       "    <tr style=\"text-align: right;\">\n",
       "      <th></th>\n",
       "      <th>PassengerId</th>\n",
       "      <th>Survived</th>\n",
       "      <th>Pclass</th>\n",
       "      <th>Name</th>\n",
       "      <th>Sex</th>\n",
       "      <th>Age</th>\n",
       "      <th>SibSp</th>\n",
       "      <th>Parch</th>\n",
       "      <th>Ticket</th>\n",
       "      <th>Fare</th>\n",
       "      <th>Cabin</th>\n",
       "      <th>Embarked</th>\n",
       "    </tr>\n",
       "  </thead>\n",
       "  <tbody>\n",
       "    <tr>\n",
       "      <td>0</td>\n",
       "      <td>1</td>\n",
       "      <td>0</td>\n",
       "      <td>3</td>\n",
       "      <td>Braund, Mr. Owen Harris</td>\n",
       "      <td>male</td>\n",
       "      <td>22.0</td>\n",
       "      <td>1</td>\n",
       "      <td>0</td>\n",
       "      <td>A/5 21171</td>\n",
       "      <td>7.2500</td>\n",
       "      <td>NaN</td>\n",
       "      <td>S</td>\n",
       "    </tr>\n",
       "    <tr>\n",
       "      <td>1</td>\n",
       "      <td>2</td>\n",
       "      <td>1</td>\n",
       "      <td>1</td>\n",
       "      <td>Cumings, Mrs. John Bradley (Florence Briggs Th...</td>\n",
       "      <td>female</td>\n",
       "      <td>38.0</td>\n",
       "      <td>1</td>\n",
       "      <td>0</td>\n",
       "      <td>PC 17599</td>\n",
       "      <td>71.2833</td>\n",
       "      <td>C85</td>\n",
       "      <td>C</td>\n",
       "    </tr>\n",
       "    <tr>\n",
       "      <td>2</td>\n",
       "      <td>3</td>\n",
       "      <td>1</td>\n",
       "      <td>3</td>\n",
       "      <td>Heikkinen, Miss. Laina</td>\n",
       "      <td>female</td>\n",
       "      <td>26.0</td>\n",
       "      <td>0</td>\n",
       "      <td>0</td>\n",
       "      <td>STON/O2. 3101282</td>\n",
       "      <td>7.9250</td>\n",
       "      <td>NaN</td>\n",
       "      <td>S</td>\n",
       "    </tr>\n",
       "    <tr>\n",
       "      <td>3</td>\n",
       "      <td>4</td>\n",
       "      <td>1</td>\n",
       "      <td>1</td>\n",
       "      <td>Futrelle, Mrs. Jacques Heath (Lily May Peel)</td>\n",
       "      <td>female</td>\n",
       "      <td>35.0</td>\n",
       "      <td>1</td>\n",
       "      <td>0</td>\n",
       "      <td>113803</td>\n",
       "      <td>53.1000</td>\n",
       "      <td>C123</td>\n",
       "      <td>S</td>\n",
       "    </tr>\n",
       "    <tr>\n",
       "      <td>4</td>\n",
       "      <td>5</td>\n",
       "      <td>0</td>\n",
       "      <td>3</td>\n",
       "      <td>Allen, Mr. William Henry</td>\n",
       "      <td>male</td>\n",
       "      <td>35.0</td>\n",
       "      <td>0</td>\n",
       "      <td>0</td>\n",
       "      <td>373450</td>\n",
       "      <td>8.0500</td>\n",
       "      <td>NaN</td>\n",
       "      <td>S</td>\n",
       "    </tr>\n",
       "  </tbody>\n",
       "</table>\n",
       "</div>"
      ],
      "text/plain": [
       "   PassengerId  Survived  Pclass  \\\n",
       "0            1         0       3   \n",
       "1            2         1       1   \n",
       "2            3         1       3   \n",
       "3            4         1       1   \n",
       "4            5         0       3   \n",
       "\n",
       "                                                Name     Sex   Age  SibSp  \\\n",
       "0                            Braund, Mr. Owen Harris    male  22.0      1   \n",
       "1  Cumings, Mrs. John Bradley (Florence Briggs Th...  female  38.0      1   \n",
       "2                             Heikkinen, Miss. Laina  female  26.0      0   \n",
       "3       Futrelle, Mrs. Jacques Heath (Lily May Peel)  female  35.0      1   \n",
       "4                           Allen, Mr. William Henry    male  35.0      0   \n",
       "\n",
       "   Parch            Ticket     Fare Cabin Embarked  \n",
       "0      0         A/5 21171   7.2500   NaN        S  \n",
       "1      0          PC 17599  71.2833   C85        C  \n",
       "2      0  STON/O2. 3101282   7.9250   NaN        S  \n",
       "3      0            113803  53.1000  C123        S  \n",
       "4      0            373450   8.0500   NaN        S  "
      ]
     },
     "execution_count": 2,
     "metadata": {},
     "output_type": "execute_result"
    }
   ],
   "source": [
    "# open database\n",
    "df = pd.read_csv(\"titanic/train.csv\")\n",
    "df.head()"
   ]
  },
  {
   "cell_type": "markdown",
   "metadata": {},
   "source": [
    "## Data Wrabling"
   ]
  },
  {
   "cell_type": "code",
   "execution_count": 3,
   "metadata": {},
   "outputs": [
    {
     "data": {
      "text/plain": [
       "PassengerId      0\n",
       "Survived         0\n",
       "Pclass           0\n",
       "Name             0\n",
       "Sex              0\n",
       "Age            177\n",
       "SibSp            0\n",
       "Parch            0\n",
       "Ticket           0\n",
       "Fare             0\n",
       "Cabin          687\n",
       "Embarked         2\n",
       "dtype: int64"
      ]
     },
     "execution_count": 3,
     "metadata": {},
     "output_type": "execute_result"
    }
   ],
   "source": [
    "df.isnull().sum()"
   ]
  },
  {
   "cell_type": "code",
   "execution_count": 4,
   "metadata": {},
   "outputs": [
    {
     "data": {
      "text/html": [
       "<div>\n",
       "<style scoped>\n",
       "    .dataframe tbody tr th:only-of-type {\n",
       "        vertical-align: middle;\n",
       "    }\n",
       "\n",
       "    .dataframe tbody tr th {\n",
       "        vertical-align: top;\n",
       "    }\n",
       "\n",
       "    .dataframe thead th {\n",
       "        text-align: right;\n",
       "    }\n",
       "</style>\n",
       "<table border=\"1\" class=\"dataframe\">\n",
       "  <thead>\n",
       "    <tr style=\"text-align: right;\">\n",
       "      <th></th>\n",
       "      <th>PassengerId</th>\n",
       "      <th>Survived</th>\n",
       "      <th>Pclass</th>\n",
       "      <th>Name</th>\n",
       "      <th>Sex</th>\n",
       "      <th>Age</th>\n",
       "      <th>SibSp</th>\n",
       "      <th>Parch</th>\n",
       "      <th>Ticket</th>\n",
       "      <th>Fare</th>\n",
       "      <th>Embarked</th>\n",
       "    </tr>\n",
       "  </thead>\n",
       "  <tbody>\n",
       "    <tr>\n",
       "      <td>0</td>\n",
       "      <td>1</td>\n",
       "      <td>0</td>\n",
       "      <td>3</td>\n",
       "      <td>Braund, Mr. Owen Harris</td>\n",
       "      <td>male</td>\n",
       "      <td>22.0</td>\n",
       "      <td>1</td>\n",
       "      <td>0</td>\n",
       "      <td>A/5 21171</td>\n",
       "      <td>7.2500</td>\n",
       "      <td>S</td>\n",
       "    </tr>\n",
       "    <tr>\n",
       "      <td>1</td>\n",
       "      <td>2</td>\n",
       "      <td>1</td>\n",
       "      <td>1</td>\n",
       "      <td>Cumings, Mrs. John Bradley (Florence Briggs Th...</td>\n",
       "      <td>female</td>\n",
       "      <td>38.0</td>\n",
       "      <td>1</td>\n",
       "      <td>0</td>\n",
       "      <td>PC 17599</td>\n",
       "      <td>71.2833</td>\n",
       "      <td>C</td>\n",
       "    </tr>\n",
       "    <tr>\n",
       "      <td>2</td>\n",
       "      <td>3</td>\n",
       "      <td>1</td>\n",
       "      <td>3</td>\n",
       "      <td>Heikkinen, Miss. Laina</td>\n",
       "      <td>female</td>\n",
       "      <td>26.0</td>\n",
       "      <td>0</td>\n",
       "      <td>0</td>\n",
       "      <td>STON/O2. 3101282</td>\n",
       "      <td>7.9250</td>\n",
       "      <td>S</td>\n",
       "    </tr>\n",
       "    <tr>\n",
       "      <td>3</td>\n",
       "      <td>4</td>\n",
       "      <td>1</td>\n",
       "      <td>1</td>\n",
       "      <td>Futrelle, Mrs. Jacques Heath (Lily May Peel)</td>\n",
       "      <td>female</td>\n",
       "      <td>35.0</td>\n",
       "      <td>1</td>\n",
       "      <td>0</td>\n",
       "      <td>113803</td>\n",
       "      <td>53.1000</td>\n",
       "      <td>S</td>\n",
       "    </tr>\n",
       "    <tr>\n",
       "      <td>4</td>\n",
       "      <td>5</td>\n",
       "      <td>0</td>\n",
       "      <td>3</td>\n",
       "      <td>Allen, Mr. William Henry</td>\n",
       "      <td>male</td>\n",
       "      <td>35.0</td>\n",
       "      <td>0</td>\n",
       "      <td>0</td>\n",
       "      <td>373450</td>\n",
       "      <td>8.0500</td>\n",
       "      <td>S</td>\n",
       "    </tr>\n",
       "  </tbody>\n",
       "</table>\n",
       "</div>"
      ],
      "text/plain": [
       "   PassengerId  Survived  Pclass  \\\n",
       "0            1         0       3   \n",
       "1            2         1       1   \n",
       "2            3         1       3   \n",
       "3            4         1       1   \n",
       "4            5         0       3   \n",
       "\n",
       "                                                Name     Sex   Age  SibSp  \\\n",
       "0                            Braund, Mr. Owen Harris    male  22.0      1   \n",
       "1  Cumings, Mrs. John Bradley (Florence Briggs Th...  female  38.0      1   \n",
       "2                             Heikkinen, Miss. Laina  female  26.0      0   \n",
       "3       Futrelle, Mrs. Jacques Heath (Lily May Peel)  female  35.0      1   \n",
       "4                           Allen, Mr. William Henry    male  35.0      0   \n",
       "\n",
       "   Parch            Ticket     Fare Embarked  \n",
       "0      0         A/5 21171   7.2500        S  \n",
       "1      0          PC 17599  71.2833        C  \n",
       "2      0  STON/O2. 3101282   7.9250        S  \n",
       "3      0            113803  53.1000        S  \n",
       "4      0            373450   8.0500        S  "
      ]
     },
     "execution_count": 4,
     "metadata": {},
     "output_type": "execute_result"
    }
   ],
   "source": [
    "df.drop(\"Cabin\", axis=1, inplace=True)\n",
    "df.head()"
   ]
  },
  {
   "cell_type": "code",
   "execution_count": 5,
   "metadata": {},
   "outputs": [
    {
     "data": {
      "text/plain": [
       "PassengerId    0\n",
       "Survived       0\n",
       "Pclass         0\n",
       "Name           0\n",
       "Sex            0\n",
       "Age            0\n",
       "SibSp          0\n",
       "Parch          0\n",
       "Ticket         0\n",
       "Fare           0\n",
       "Embarked       0\n",
       "dtype: int64"
      ]
     },
     "execution_count": 5,
     "metadata": {},
     "output_type": "execute_result"
    }
   ],
   "source": [
    "df.dropna(inplace=True)\n",
    "df.isnull().sum()"
   ]
  },
  {
   "cell_type": "code",
   "execution_count": 6,
   "metadata": {},
   "outputs": [
    {
     "data": {
      "text/html": [
       "<div>\n",
       "<style scoped>\n",
       "    .dataframe tbody tr th:only-of-type {\n",
       "        vertical-align: middle;\n",
       "    }\n",
       "\n",
       "    .dataframe tbody tr th {\n",
       "        vertical-align: top;\n",
       "    }\n",
       "\n",
       "    .dataframe thead th {\n",
       "        text-align: right;\n",
       "    }\n",
       "</style>\n",
       "<table border=\"1\" class=\"dataframe\">\n",
       "  <thead>\n",
       "    <tr style=\"text-align: right;\">\n",
       "      <th></th>\n",
       "      <th>male</th>\n",
       "    </tr>\n",
       "  </thead>\n",
       "  <tbody>\n",
       "    <tr>\n",
       "      <td>0</td>\n",
       "      <td>1</td>\n",
       "    </tr>\n",
       "    <tr>\n",
       "      <td>1</td>\n",
       "      <td>0</td>\n",
       "    </tr>\n",
       "    <tr>\n",
       "      <td>2</td>\n",
       "      <td>0</td>\n",
       "    </tr>\n",
       "    <tr>\n",
       "      <td>3</td>\n",
       "      <td>0</td>\n",
       "    </tr>\n",
       "    <tr>\n",
       "      <td>4</td>\n",
       "      <td>1</td>\n",
       "    </tr>\n",
       "  </tbody>\n",
       "</table>\n",
       "</div>"
      ],
      "text/plain": [
       "   male\n",
       "0     1\n",
       "1     0\n",
       "2     0\n",
       "3     0\n",
       "4     1"
      ]
     },
     "execution_count": 6,
     "metadata": {},
     "output_type": "execute_result"
    }
   ],
   "source": [
    "sex = pd.get_dummies(df[\"Sex\"], drop_first=True)\n",
    "sex.head()"
   ]
  },
  {
   "cell_type": "code",
   "execution_count": 7,
   "metadata": {},
   "outputs": [
    {
     "data": {
      "text/html": [
       "<div>\n",
       "<style scoped>\n",
       "    .dataframe tbody tr th:only-of-type {\n",
       "        vertical-align: middle;\n",
       "    }\n",
       "\n",
       "    .dataframe tbody tr th {\n",
       "        vertical-align: top;\n",
       "    }\n",
       "\n",
       "    .dataframe thead th {\n",
       "        text-align: right;\n",
       "    }\n",
       "</style>\n",
       "<table border=\"1\" class=\"dataframe\">\n",
       "  <thead>\n",
       "    <tr style=\"text-align: right;\">\n",
       "      <th></th>\n",
       "      <th>Q</th>\n",
       "      <th>S</th>\n",
       "    </tr>\n",
       "  </thead>\n",
       "  <tbody>\n",
       "    <tr>\n",
       "      <td>0</td>\n",
       "      <td>0</td>\n",
       "      <td>1</td>\n",
       "    </tr>\n",
       "    <tr>\n",
       "      <td>1</td>\n",
       "      <td>0</td>\n",
       "      <td>0</td>\n",
       "    </tr>\n",
       "    <tr>\n",
       "      <td>2</td>\n",
       "      <td>0</td>\n",
       "      <td>1</td>\n",
       "    </tr>\n",
       "    <tr>\n",
       "      <td>3</td>\n",
       "      <td>0</td>\n",
       "      <td>1</td>\n",
       "    </tr>\n",
       "    <tr>\n",
       "      <td>4</td>\n",
       "      <td>0</td>\n",
       "      <td>1</td>\n",
       "    </tr>\n",
       "  </tbody>\n",
       "</table>\n",
       "</div>"
      ],
      "text/plain": [
       "   Q  S\n",
       "0  0  1\n",
       "1  0  0\n",
       "2  0  1\n",
       "3  0  1\n",
       "4  0  1"
      ]
     },
     "execution_count": 7,
     "metadata": {},
     "output_type": "execute_result"
    }
   ],
   "source": [
    "embark = pd.get_dummies(df[\"Embarked\"], drop_first=True)\n",
    "embark.head()"
   ]
  },
  {
   "cell_type": "code",
   "execution_count": 8,
   "metadata": {},
   "outputs": [
    {
     "data": {
      "text/html": [
       "<div>\n",
       "<style scoped>\n",
       "    .dataframe tbody tr th:only-of-type {\n",
       "        vertical-align: middle;\n",
       "    }\n",
       "\n",
       "    .dataframe tbody tr th {\n",
       "        vertical-align: top;\n",
       "    }\n",
       "\n",
       "    .dataframe thead th {\n",
       "        text-align: right;\n",
       "    }\n",
       "</style>\n",
       "<table border=\"1\" class=\"dataframe\">\n",
       "  <thead>\n",
       "    <tr style=\"text-align: right;\">\n",
       "      <th></th>\n",
       "      <th>2</th>\n",
       "      <th>3</th>\n",
       "    </tr>\n",
       "  </thead>\n",
       "  <tbody>\n",
       "    <tr>\n",
       "      <td>0</td>\n",
       "      <td>0</td>\n",
       "      <td>1</td>\n",
       "    </tr>\n",
       "    <tr>\n",
       "      <td>1</td>\n",
       "      <td>0</td>\n",
       "      <td>0</td>\n",
       "    </tr>\n",
       "    <tr>\n",
       "      <td>2</td>\n",
       "      <td>0</td>\n",
       "      <td>1</td>\n",
       "    </tr>\n",
       "    <tr>\n",
       "      <td>3</td>\n",
       "      <td>0</td>\n",
       "      <td>0</td>\n",
       "    </tr>\n",
       "    <tr>\n",
       "      <td>4</td>\n",
       "      <td>0</td>\n",
       "      <td>1</td>\n",
       "    </tr>\n",
       "  </tbody>\n",
       "</table>\n",
       "</div>"
      ],
      "text/plain": [
       "   2  3\n",
       "0  0  1\n",
       "1  0  0\n",
       "2  0  1\n",
       "3  0  0\n",
       "4  0  1"
      ]
     },
     "execution_count": 8,
     "metadata": {},
     "output_type": "execute_result"
    }
   ],
   "source": [
    "Pclass = pd.get_dummies(df[\"Pclass\"], drop_first=True)\n",
    "Pclass.head()"
   ]
  },
  {
   "cell_type": "code",
   "execution_count": 9,
   "metadata": {},
   "outputs": [
    {
     "data": {
      "text/html": [
       "<div>\n",
       "<style scoped>\n",
       "    .dataframe tbody tr th:only-of-type {\n",
       "        vertical-align: middle;\n",
       "    }\n",
       "\n",
       "    .dataframe tbody tr th {\n",
       "        vertical-align: top;\n",
       "    }\n",
       "\n",
       "    .dataframe thead th {\n",
       "        text-align: right;\n",
       "    }\n",
       "</style>\n",
       "<table border=\"1\" class=\"dataframe\">\n",
       "  <thead>\n",
       "    <tr style=\"text-align: right;\">\n",
       "      <th></th>\n",
       "      <th>PassengerId</th>\n",
       "      <th>Survived</th>\n",
       "      <th>Pclass</th>\n",
       "      <th>Name</th>\n",
       "      <th>Sex</th>\n",
       "      <th>Age</th>\n",
       "      <th>SibSp</th>\n",
       "      <th>Parch</th>\n",
       "      <th>Ticket</th>\n",
       "      <th>Fare</th>\n",
       "      <th>Embarked</th>\n",
       "      <th>male</th>\n",
       "      <th>Q</th>\n",
       "      <th>S</th>\n",
       "      <th>2</th>\n",
       "      <th>3</th>\n",
       "    </tr>\n",
       "  </thead>\n",
       "  <tbody>\n",
       "    <tr>\n",
       "      <td>0</td>\n",
       "      <td>1</td>\n",
       "      <td>0</td>\n",
       "      <td>3</td>\n",
       "      <td>Braund, Mr. Owen Harris</td>\n",
       "      <td>male</td>\n",
       "      <td>22.0</td>\n",
       "      <td>1</td>\n",
       "      <td>0</td>\n",
       "      <td>A/5 21171</td>\n",
       "      <td>7.2500</td>\n",
       "      <td>S</td>\n",
       "      <td>1</td>\n",
       "      <td>0</td>\n",
       "      <td>1</td>\n",
       "      <td>0</td>\n",
       "      <td>1</td>\n",
       "    </tr>\n",
       "    <tr>\n",
       "      <td>1</td>\n",
       "      <td>2</td>\n",
       "      <td>1</td>\n",
       "      <td>1</td>\n",
       "      <td>Cumings, Mrs. John Bradley (Florence Briggs Th...</td>\n",
       "      <td>female</td>\n",
       "      <td>38.0</td>\n",
       "      <td>1</td>\n",
       "      <td>0</td>\n",
       "      <td>PC 17599</td>\n",
       "      <td>71.2833</td>\n",
       "      <td>C</td>\n",
       "      <td>0</td>\n",
       "      <td>0</td>\n",
       "      <td>0</td>\n",
       "      <td>0</td>\n",
       "      <td>0</td>\n",
       "    </tr>\n",
       "    <tr>\n",
       "      <td>2</td>\n",
       "      <td>3</td>\n",
       "      <td>1</td>\n",
       "      <td>3</td>\n",
       "      <td>Heikkinen, Miss. Laina</td>\n",
       "      <td>female</td>\n",
       "      <td>26.0</td>\n",
       "      <td>0</td>\n",
       "      <td>0</td>\n",
       "      <td>STON/O2. 3101282</td>\n",
       "      <td>7.9250</td>\n",
       "      <td>S</td>\n",
       "      <td>0</td>\n",
       "      <td>0</td>\n",
       "      <td>1</td>\n",
       "      <td>0</td>\n",
       "      <td>1</td>\n",
       "    </tr>\n",
       "    <tr>\n",
       "      <td>3</td>\n",
       "      <td>4</td>\n",
       "      <td>1</td>\n",
       "      <td>1</td>\n",
       "      <td>Futrelle, Mrs. Jacques Heath (Lily May Peel)</td>\n",
       "      <td>female</td>\n",
       "      <td>35.0</td>\n",
       "      <td>1</td>\n",
       "      <td>0</td>\n",
       "      <td>113803</td>\n",
       "      <td>53.1000</td>\n",
       "      <td>S</td>\n",
       "      <td>0</td>\n",
       "      <td>0</td>\n",
       "      <td>1</td>\n",
       "      <td>0</td>\n",
       "      <td>0</td>\n",
       "    </tr>\n",
       "    <tr>\n",
       "      <td>4</td>\n",
       "      <td>5</td>\n",
       "      <td>0</td>\n",
       "      <td>3</td>\n",
       "      <td>Allen, Mr. William Henry</td>\n",
       "      <td>male</td>\n",
       "      <td>35.0</td>\n",
       "      <td>0</td>\n",
       "      <td>0</td>\n",
       "      <td>373450</td>\n",
       "      <td>8.0500</td>\n",
       "      <td>S</td>\n",
       "      <td>1</td>\n",
       "      <td>0</td>\n",
       "      <td>1</td>\n",
       "      <td>0</td>\n",
       "      <td>1</td>\n",
       "    </tr>\n",
       "  </tbody>\n",
       "</table>\n",
       "</div>"
      ],
      "text/plain": [
       "   PassengerId  Survived  Pclass  \\\n",
       "0            1         0       3   \n",
       "1            2         1       1   \n",
       "2            3         1       3   \n",
       "3            4         1       1   \n",
       "4            5         0       3   \n",
       "\n",
       "                                                Name     Sex   Age  SibSp  \\\n",
       "0                            Braund, Mr. Owen Harris    male  22.0      1   \n",
       "1  Cumings, Mrs. John Bradley (Florence Briggs Th...  female  38.0      1   \n",
       "2                             Heikkinen, Miss. Laina  female  26.0      0   \n",
       "3       Futrelle, Mrs. Jacques Heath (Lily May Peel)  female  35.0      1   \n",
       "4                           Allen, Mr. William Henry    male  35.0      0   \n",
       "\n",
       "   Parch            Ticket     Fare Embarked  male  Q  S  2  3  \n",
       "0      0         A/5 21171   7.2500        S     1  0  1  0  1  \n",
       "1      0          PC 17599  71.2833        C     0  0  0  0  0  \n",
       "2      0  STON/O2. 3101282   7.9250        S     0  0  1  0  1  \n",
       "3      0            113803  53.1000        S     0  0  1  0  0  \n",
       "4      0            373450   8.0500        S     1  0  1  0  1  "
      ]
     },
     "execution_count": 9,
     "metadata": {},
     "output_type": "execute_result"
    }
   ],
   "source": [
    "df = pd.concat([df, sex, embark, Pclass], axis=1)\n",
    "df.head()"
   ]
  },
  {
   "cell_type": "code",
   "execution_count": 10,
   "metadata": {},
   "outputs": [
    {
     "data": {
      "text/html": [
       "<div>\n",
       "<style scoped>\n",
       "    .dataframe tbody tr th:only-of-type {\n",
       "        vertical-align: middle;\n",
       "    }\n",
       "\n",
       "    .dataframe tbody tr th {\n",
       "        vertical-align: top;\n",
       "    }\n",
       "\n",
       "    .dataframe thead th {\n",
       "        text-align: right;\n",
       "    }\n",
       "</style>\n",
       "<table border=\"1\" class=\"dataframe\">\n",
       "  <thead>\n",
       "    <tr style=\"text-align: right;\">\n",
       "      <th></th>\n",
       "      <th>Survived</th>\n",
       "      <th>Age</th>\n",
       "      <th>SibSp</th>\n",
       "      <th>Parch</th>\n",
       "      <th>Fare</th>\n",
       "      <th>male</th>\n",
       "      <th>Q</th>\n",
       "      <th>S</th>\n",
       "      <th>2</th>\n",
       "      <th>3</th>\n",
       "    </tr>\n",
       "  </thead>\n",
       "  <tbody>\n",
       "    <tr>\n",
       "      <td>0</td>\n",
       "      <td>0</td>\n",
       "      <td>22.0</td>\n",
       "      <td>1</td>\n",
       "      <td>0</td>\n",
       "      <td>7.2500</td>\n",
       "      <td>1</td>\n",
       "      <td>0</td>\n",
       "      <td>1</td>\n",
       "      <td>0</td>\n",
       "      <td>1</td>\n",
       "    </tr>\n",
       "    <tr>\n",
       "      <td>1</td>\n",
       "      <td>1</td>\n",
       "      <td>38.0</td>\n",
       "      <td>1</td>\n",
       "      <td>0</td>\n",
       "      <td>71.2833</td>\n",
       "      <td>0</td>\n",
       "      <td>0</td>\n",
       "      <td>0</td>\n",
       "      <td>0</td>\n",
       "      <td>0</td>\n",
       "    </tr>\n",
       "    <tr>\n",
       "      <td>2</td>\n",
       "      <td>1</td>\n",
       "      <td>26.0</td>\n",
       "      <td>0</td>\n",
       "      <td>0</td>\n",
       "      <td>7.9250</td>\n",
       "      <td>0</td>\n",
       "      <td>0</td>\n",
       "      <td>1</td>\n",
       "      <td>0</td>\n",
       "      <td>1</td>\n",
       "    </tr>\n",
       "    <tr>\n",
       "      <td>3</td>\n",
       "      <td>1</td>\n",
       "      <td>35.0</td>\n",
       "      <td>1</td>\n",
       "      <td>0</td>\n",
       "      <td>53.1000</td>\n",
       "      <td>0</td>\n",
       "      <td>0</td>\n",
       "      <td>1</td>\n",
       "      <td>0</td>\n",
       "      <td>0</td>\n",
       "    </tr>\n",
       "    <tr>\n",
       "      <td>4</td>\n",
       "      <td>0</td>\n",
       "      <td>35.0</td>\n",
       "      <td>0</td>\n",
       "      <td>0</td>\n",
       "      <td>8.0500</td>\n",
       "      <td>1</td>\n",
       "      <td>0</td>\n",
       "      <td>1</td>\n",
       "      <td>0</td>\n",
       "      <td>1</td>\n",
       "    </tr>\n",
       "  </tbody>\n",
       "</table>\n",
       "</div>"
      ],
      "text/plain": [
       "   Survived   Age  SibSp  Parch     Fare  male  Q  S  2  3\n",
       "0         0  22.0      1      0   7.2500     1  0  1  0  1\n",
       "1         1  38.0      1      0  71.2833     0  0  0  0  0\n",
       "2         1  26.0      0      0   7.9250     0  0  1  0  1\n",
       "3         1  35.0      1      0  53.1000     0  0  1  0  0\n",
       "4         0  35.0      0      0   8.0500     1  0  1  0  1"
      ]
     },
     "execution_count": 10,
     "metadata": {},
     "output_type": "execute_result"
    }
   ],
   "source": [
    "df.drop([\"Sex\", \"Embarked\", \"PassengerId\", \"Name\", \"Ticket\", \"Pclass\"], axis=1, inplace=True)\n",
    "df.head()"
   ]
  },
  {
   "cell_type": "markdown",
   "metadata": {},
   "source": [
    "## Split features vectors and labels"
   ]
  },
  {
   "cell_type": "code",
   "execution_count": 11,
   "metadata": {},
   "outputs": [
    {
     "data": {
      "text/html": [
       "<div>\n",
       "<style scoped>\n",
       "    .dataframe tbody tr th:only-of-type {\n",
       "        vertical-align: middle;\n",
       "    }\n",
       "\n",
       "    .dataframe tbody tr th {\n",
       "        vertical-align: top;\n",
       "    }\n",
       "\n",
       "    .dataframe thead th {\n",
       "        text-align: right;\n",
       "    }\n",
       "</style>\n",
       "<table border=\"1\" class=\"dataframe\">\n",
       "  <thead>\n",
       "    <tr style=\"text-align: right;\">\n",
       "      <th></th>\n",
       "      <th>Age</th>\n",
       "      <th>SibSp</th>\n",
       "      <th>Parch</th>\n",
       "      <th>Fare</th>\n",
       "      <th>male</th>\n",
       "      <th>Q</th>\n",
       "      <th>S</th>\n",
       "      <th>2</th>\n",
       "      <th>3</th>\n",
       "    </tr>\n",
       "  </thead>\n",
       "  <tbody>\n",
       "    <tr>\n",
       "      <td>0</td>\n",
       "      <td>22.0</td>\n",
       "      <td>1</td>\n",
       "      <td>0</td>\n",
       "      <td>7.2500</td>\n",
       "      <td>1</td>\n",
       "      <td>0</td>\n",
       "      <td>1</td>\n",
       "      <td>0</td>\n",
       "      <td>1</td>\n",
       "    </tr>\n",
       "    <tr>\n",
       "      <td>1</td>\n",
       "      <td>38.0</td>\n",
       "      <td>1</td>\n",
       "      <td>0</td>\n",
       "      <td>71.2833</td>\n",
       "      <td>0</td>\n",
       "      <td>0</td>\n",
       "      <td>0</td>\n",
       "      <td>0</td>\n",
       "      <td>0</td>\n",
       "    </tr>\n",
       "    <tr>\n",
       "      <td>2</td>\n",
       "      <td>26.0</td>\n",
       "      <td>0</td>\n",
       "      <td>0</td>\n",
       "      <td>7.9250</td>\n",
       "      <td>0</td>\n",
       "      <td>0</td>\n",
       "      <td>1</td>\n",
       "      <td>0</td>\n",
       "      <td>1</td>\n",
       "    </tr>\n",
       "    <tr>\n",
       "      <td>3</td>\n",
       "      <td>35.0</td>\n",
       "      <td>1</td>\n",
       "      <td>0</td>\n",
       "      <td>53.1000</td>\n",
       "      <td>0</td>\n",
       "      <td>0</td>\n",
       "      <td>1</td>\n",
       "      <td>0</td>\n",
       "      <td>0</td>\n",
       "    </tr>\n",
       "    <tr>\n",
       "      <td>4</td>\n",
       "      <td>35.0</td>\n",
       "      <td>0</td>\n",
       "      <td>0</td>\n",
       "      <td>8.0500</td>\n",
       "      <td>1</td>\n",
       "      <td>0</td>\n",
       "      <td>1</td>\n",
       "      <td>0</td>\n",
       "      <td>1</td>\n",
       "    </tr>\n",
       "  </tbody>\n",
       "</table>\n",
       "</div>"
      ],
      "text/plain": [
       "    Age  SibSp  Parch     Fare  male  Q  S  2  3\n",
       "0  22.0      1      0   7.2500     1  0  1  0  1\n",
       "1  38.0      1      0  71.2833     0  0  0  0  0\n",
       "2  26.0      0      0   7.9250     0  0  1  0  1\n",
       "3  35.0      1      0  53.1000     0  0  1  0  0\n",
       "4  35.0      0      0   8.0500     1  0  1  0  1"
      ]
     },
     "execution_count": 11,
     "metadata": {},
     "output_type": "execute_result"
    }
   ],
   "source": [
    "X = df.drop(\"Survived\", axis=1)\n",
    "y = df[\"Survived\"]\n",
    "X.head()"
   ]
  },
  {
   "cell_type": "code",
   "execution_count": 12,
   "metadata": {},
   "outputs": [
    {
     "data": {
      "text/plain": [
       "0    0\n",
       "1    1\n",
       "2    1\n",
       "3    1\n",
       "4    0\n",
       "Name: Survived, dtype: int64"
      ]
     },
     "execution_count": 12,
     "metadata": {},
     "output_type": "execute_result"
    }
   ],
   "source": [
    "y.head()"
   ]
  },
  {
   "cell_type": "markdown",
   "metadata": {},
   "source": [
    "## Rescaling feature vector to all have the same scale"
   ]
  },
  {
   "cell_type": "code",
   "execution_count": 13,
   "metadata": {},
   "outputs": [],
   "source": [
    "from sklearn.preprocessing import StandardScaler\n",
    "\n",
    "X_std = StandardScaler().fit_transform(X)"
   ]
  },
  {
   "cell_type": "code",
   "execution_count": 14,
   "metadata": {},
   "outputs": [
    {
     "data": {
      "text/plain": [
       "array([[-0.52766856,  0.52251079, -0.50678737, ...,  0.53403984,\n",
       "        -0.56653751,  1.00281295],\n",
       "       [ 0.57709388,  0.52251079, -0.50678737, ..., -1.87251946,\n",
       "        -0.56653751, -0.99719495],\n",
       "       [-0.25147795, -0.55271372, -0.50678737, ...,  0.53403984,\n",
       "        -0.56653751,  1.00281295],\n",
       "       ...,\n",
       "       [-0.73481151, -0.55271372, -0.50678737, ...,  0.53403984,\n",
       "        -0.56653751, -0.99719495],\n",
       "       [-0.25147795, -0.55271372, -0.50678737, ..., -1.87251946,\n",
       "        -0.56653751, -0.99719495],\n",
       "       [ 0.16280796, -0.55271372, -0.50678737, ..., -1.87251946,\n",
       "        -0.56653751,  1.00281295]])"
      ]
     },
     "execution_count": 14,
     "metadata": {},
     "output_type": "execute_result"
    }
   ],
   "source": [
    "X_std"
   ]
  },
  {
   "cell_type": "markdown",
   "metadata": {},
   "source": [
    "## Covariance Matrix of features"
   ]
  },
  {
   "cell_type": "code",
   "execution_count": 15,
   "metadata": {},
   "outputs": [
    {
     "name": "stdout",
     "output_type": "stream",
     "text": [
      "[[ 1.00140647 -0.30778322 -0.18816076  0.09327352  0.09917652 -0.0217234\n",
      "  -0.02546714  0.00922673 -0.31038021]\n",
      " [-0.30778322  1.00140647  0.38387668  0.1400572  -0.10644562  0.05140316\n",
      "   0.01899424 -0.05264358  0.07716859]\n",
      " [-0.18816076  0.38387668  1.00140647  0.20691428 -0.2498937  -0.00942982\n",
      "   0.01327725 -0.01858366  0.02778932]\n",
      " [ 0.09327352  0.1400572   0.20691428  1.00140647 -0.18271345 -0.06243393\n",
      "  -0.25134748 -0.14044296 -0.40278453]\n",
      " [ 0.09917652 -0.10644562 -0.2498937  -0.18271345  1.00140647 -0.02729398\n",
      "   0.10923139 -0.07545279  0.15866923]\n",
      " [-0.0217234   0.05140316 -0.00942982 -0.06243393 -0.02729398  1.00140647\n",
      "  -0.37939159 -0.08104234  0.14529129]\n",
      " [-0.02546714  0.01899424  0.01327725 -0.25134748  0.10923139 -0.37939159\n",
      "   1.00140647  0.16881438  0.09327123]\n",
      " [ 0.00922673 -0.05264358 -0.01858366 -0.14044296 -0.07545279 -0.08104234\n",
      "   0.16881438  1.00140647 -0.56574292]\n",
      " [-0.31038021  0.07716859  0.02778932 -0.40278453  0.15866923  0.14529129\n",
      "   0.09327123 -0.56574292  1.00140647]]\n"
     ]
    }
   ],
   "source": [
    "features = X_std.T\n",
    "covariance_matrix = np.cov(features)\n",
    "print(covariance_matrix)"
   ]
  },
  {
   "cell_type": "markdown",
   "metadata": {},
   "source": [
    "## Eigen Vectors and Eigen Values from Covariance Matrix"
   ]
  },
  {
   "cell_type": "code",
   "execution_count": 16,
   "metadata": {},
   "outputs": [],
   "source": [
    "eig_vals, eig_vecs = np.linalg.eig(covariance_matrix)"
   ]
  },
  {
   "cell_type": "code",
   "execution_count": 17,
   "metadata": {},
   "outputs": [
    {
     "name": "stdout",
     "output_type": "stream",
     "text": [
      "Eigenvector \n",
      "[[-0.42549744  0.1394993   0.28667546 -0.20079376 -0.29547624  0.24164493\n",
      "  -0.2210482  -0.69424943 -0.02116256]\n",
      " [ 0.32524147 -0.39675153 -0.2396664  -0.02254068  0.02048875  0.2988928\n",
      "  -0.59593585 -0.07186357 -0.47832787]\n",
      " [ 0.22326197 -0.477692   -0.23241727  0.08288772 -0.08232349  0.04728662\n",
      "   0.63216684 -0.501769   -0.0256136 ]\n",
      " [-0.1700155  -0.4941996   0.22598462 -0.38691513 -0.46420169 -0.4776237\n",
      "  -0.01195451  0.24956426 -0.14162019]\n",
      " [ 0.02503839  0.43948292  0.03331133  0.03222906 -0.18180031 -0.03141219\n",
      "   0.32798115  0.06414191 -0.81139114]\n",
      " [ 0.20963984 -0.05289622  0.48646434  0.08451545  0.54614063 -0.50929061\n",
      "  -0.10808559 -0.33274866 -0.17149939]\n",
      " [-0.0388967   0.24129342 -0.63214676  0.10294309 -0.17567924 -0.60037716\n",
      "  -0.24501548 -0.27617463  0.04936388]\n",
      " [-0.45165025 -0.07397492 -0.34316696 -0.55505412  0.56586743  0.02815336\n",
      "   0.12658996  0.01448673 -0.1657036 ]\n",
      " [ 0.61995326  0.30177347  0.01265212 -0.6897363  -0.08731299  0.01736119\n",
      "   0.03014318 -0.08649135  0.17994487]]\n"
     ]
    }
   ],
   "source": [
    "print(\"Eigenvector \\n{}\".format(eig_vecs))"
   ]
  },
  {
   "cell_type": "code",
   "execution_count": 18,
   "metadata": {},
   "outputs": [
    {
     "name": "stdout",
     "output_type": "stream",
     "text": [
      "\n",
      "EigenValues \n",
      "[1.83722751 1.79097298 1.49087017 0.18987533 1.09350437 0.47446778\n",
      " 0.56583156 0.73145821 0.83845033]\n"
     ]
    }
   ],
   "source": [
    "print(\"\\nEigenValues \\n{}\".format(eig_vals))"
   ]
  },
  {
   "cell_type": "code",
   "execution_count": 19,
   "metadata": {},
   "outputs": [
    {
     "data": {
      "text/plain": [
       "0.20384968135225123"
      ]
     },
     "execution_count": 19,
     "metadata": {},
     "output_type": "execute_result"
    }
   ],
   "source": [
    "''' We reduce dimension to 1 dimension, since 1\n",
    "eigenvector has 20% (enough) variances '''\n",
    "\n",
    "eig_vals[0] / sum(eig_vals)"
   ]
  },
  {
   "cell_type": "markdown",
   "metadata": {},
   "source": [
    "## Project Data Point onto selected Eigen Vector"
   ]
  },
  {
   "cell_type": "code",
   "execution_count": 20,
   "metadata": {},
   "outputs": [
    {
     "data": {
      "text/plain": [
       "array([ 1.20242856e+00, -6.71786411e-01,  6.80987243e-01, -6.18817059e-01,\n",
       "        4.68215118e-01, -1.47071396e+00,  2.70656385e+00,  1.16441494e+00,\n",
       "       -8.87315039e-01,  1.91040390e+00, -1.55892866e+00,  9.08909110e-01,\n",
       "        1.93355892e+00,  1.03376998e+00, -2.48997248e+00,  4.20257352e+00,\n",
       "        8.51417660e-01, -1.88247264e+00, -1.81131345e+00,  2.17600123e+00,\n",
       "       -6.54258322e-01,  2.47824026e+00,  1.91053097e+00,  4.51256151e-01,\n",
       "       -8.88205399e-01, -2.74342609e+00, -3.60934830e-01, -7.68893062e-01,\n",
       "        8.79529511e-01,  1.58306005e+00,  1.46619798e+00,  6.14399037e-01,\n",
       "       -1.33370517e+00, -7.80071301e-02,  2.05896491e+00,  1.23399522e+00,\n",
       "        2.84955632e+00,  8.80332964e-01, -1.01246412e+00, -1.40853344e+00,\n",
       "       -1.47123645e+00, -1.47339011e+00,  7.55427622e-01, -1.85929047e-01,\n",
       "        3.32012498e+00,  9.46395019e-01, -9.58186687e-01,  2.88742946e+00,\n",
       "       -1.70842691e+00,  9.37940653e-01,  2.86735222e+00,  1.43007825e+00,\n",
       "       -1.74451971e+00,  3.12118098e+00, -1.62381446e+00,  1.15536441e+00,\n",
       "        4.00658079e-01,  7.63296639e-01, -3.65094989e-01,  5.48845987e-01,\n",
       "        8.47096787e-01,  6.39832683e-01, -6.91538576e-01, -1.35587172e+00,\n",
       "        1.49898336e+00,  2.07620870e+00,  2.81691756e-01,  7.91390712e-01,\n",
       "        6.44492715e-01,  9.09538375e-01, -9.15898213e-01,  1.56520426e+00,\n",
       "       -2.34324218e-01, -1.82125565e+00, -2.41725447e-01, -1.63393850e+00,\n",
       "       -1.50338544e+00,  6.22321888e-01, -3.21339328e-01,  5.25032530e-01,\n",
       "        1.10927285e+00,  6.74367884e-01,  8.28769040e-01,  3.80571889e-01,\n",
       "       -1.26549866e+00,  1.44118380e+00,  8.50149911e-01,  1.20086619e+00,\n",
       "        1.01801403e+00,  8.79931237e-01,  5.98376755e-01, -1.34041837e+00,\n",
       "       -8.62969245e-01,  3.23300363e+00, -9.24399259e-01, -1.37879163e+00,\n",
       "       -1.81929004e+00, -1.29086611e+00,  1.57700318e+00,  7.94309820e-01,\n",
       "        1.77873974e-01,  6.21077095e-01,  9.12122925e-01,  3.92592420e-01,\n",
       "       -1.40853344e+00, -1.54689705e+00, -1.40110547e+00,  1.10851027e-01,\n",
       "       -6.25530261e-01,  1.02267795e+00, -5.83576430e-01,  7.99068059e-01,\n",
       "        1.06398456e+00,  2.11463994e+00, -1.33641913e+00, -8.35680869e-01,\n",
       "        7.04068865e-01,  2.31796841e+00, -1.40342386e+00, -2.04635024e+00,\n",
       "       -2.30924008e+00, -2.80268768e-01, -1.34066672e-01,  8.09016396e-01,\n",
       "       -1.05799377e+00,  2.14757260e+00,  6.15113115e-01,  4.39486603e-01,\n",
       "       -2.04847503e+00,  7.33515312e-01,  9.95079447e-01,  3.02583392e+00,\n",
       "        1.71511054e+00,  1.45452286e+00,  5.18176477e-01, -1.61735748e+00,\n",
       "        4.14381432e+00,  2.01643304e+00,  8.79931237e-01, -1.36784009e+00,\n",
       "        1.57956426e+00, -1.23723453e+00, -1.69379505e+00,  4.64706729e-01,\n",
       "        3.07903088e+00,  3.56284378e-02,  1.80514182e+00, -1.12494787e+00,\n",
       "        2.08081416e+00,  4.39331088e-01, -1.80460024e+00, -1.37061945e+00,\n",
       "        1.23657958e+00, -3.31058767e-01, -1.05776979e+00, -1.85088540e+00,\n",
       "        5.22978679e-01, -1.56956345e+00,  6.69212282e-01,  5.02589628e-01,\n",
       "        2.55987929e-01,  9.67668309e-01,  1.63950167e+00,  8.80993759e-01,\n",
       "        7.91730383e-01,  2.14751893e+00, -8.98744141e-01,  7.94604527e-01,\n",
       "       -1.91844956e+00,  8.52720963e-01, -1.69379505e+00, -6.01082768e-01,\n",
       "        6.51607644e-01, -1.74163605e+00, -8.61312485e-01, -1.68576051e+00,\n",
       "        1.02642751e+00, -1.60565625e+00, -1.85847416e-03, -7.73499633e-01,\n",
       "        8.45971952e-01, -1.36258492e+00,  8.96790362e-01, -1.34123986e+00,\n",
       "       -7.16436689e-01,  6.45376514e-01, -2.54741034e+00,  3.14450328e+00,\n",
       "       -1.50948291e+00, -1.79718144e+00, -6.18954723e-01, -1.36258492e+00,\n",
       "       -1.77960383e+00, -1.65638091e+00,  8.53122690e-01,  7.11371721e-01,\n",
       "        5.72103645e-01,  7.10848915e-01, -1.05126599e+00, -3.62217070e-01,\n",
       "       -2.09097743e+00,  1.19596008e+00, -1.62440106e+00,  9.38949505e-01,\n",
       "        7.23921682e-01,  1.18604614e+00, -9.28968081e-01, -2.35079513e+00,\n",
       "       -2.11365354e+00,  3.25530848e+00, -8.89991950e-01, -8.92723085e-01,\n",
       "       -1.86203811e+00,  2.58513993e+00,  1.11260251e+00, -1.70524286e+00,\n",
       "       -1.23377141e+00,  7.87882323e-01, -1.82834735e+00, -5.44868292e-01,\n",
       "       -1.52133582e+00,  1.23337270e-01,  4.05567552e+00,  9.88227269e-01,\n",
       "        7.59964553e-01,  6.74501579e-01,  1.02176748e+00,  9.38288709e-01,\n",
       "        6.18613063e-01,  6.10453083e-01,  8.50645481e-01, -2.04635024e+00,\n",
       "        1.97124133e+00, -7.86863999e-01, -1.77194380e-01, -1.77606371e+00,\n",
       "        7.36773663e-01,  7.91886282e-01,  9.02325619e-01,  5.57427823e-01,\n",
       "       -1.67888483e+00,  9.64159920e-01,  6.41203787e-01, -1.75707935e-01,\n",
       "       -1.28583221e+00, -7.40325794e-01, -6.48343671e-01,  1.74497996e-01,\n",
       "       -1.05883555e+00,  6.74367884e-01, -1.50704620e+00,  6.81214781e-01,\n",
       "       -1.26163544e+00, -2.40211925e+00, -6.87085572e-01, -6.72153295e-01,\n",
       "        8.52720963e-01,  7.03747484e-01, -5.71578791e-01, -9.50958599e-01,\n",
       "       -1.16954380e+00, -2.89829429e-01, -1.92211864e+00,  1.10486187e+00,\n",
       "       -7.08268154e-02, -1.14590461e+00, -1.06560487e+00,  1.69386525e+00,\n",
       "       -4.33879967e-01, -1.31279959e+00,  1.74419123e-01, -1.15371151e+00,\n",
       "       -3.01679167e-01,  2.52312156e-01, -1.63503585e+00, -1.54689705e+00,\n",
       "       -1.87007265e+00, -1.56956345e+00, -2.03963704e+00,  1.99440054e+00,\n",
       "        2.60589460e-01,  8.16994079e-01,  1.76331891e+00,  1.08038402e+00,\n",
       "        6.69212282e-01, -3.31137023e-01, -1.98087784e+00,  1.65346686e+00,\n",
       "       -1.26841057e+00,  4.56957511e-01,  4.71428933e-01,  6.17684167e-01,\n",
       "       -1.33088584e+00, -6.03805659e-01, -1.86893650e-01,  1.32237082e+00,\n",
       "        9.38288709e-01, -7.06183415e-01,  2.62513826e+00,  8.00674966e-01,\n",
       "       -5.73784766e-01,  1.01549210e+00,  9.39172509e-01, -1.64114432e+00,\n",
       "        2.00708119e+00,  5.56755643e-01, -6.15281863e-01, -1.53567566e+00,\n",
       "        3.61392097e+00, -1.92211864e+00, -1.26708523e+00, -2.88036701e-01,\n",
       "        8.80346462e-01,  1.37368924e+00, -3.66045972e-01,  1.23466340e+00,\n",
       "        8.50966863e-01,  5.34316784e-01, -2.20564824e+00, -1.48010332e+00,\n",
       "       -1.68595701e+00,  3.51098447e-01,  7.32631513e-01,  1.17148659e+00,\n",
       "        9.98512157e-01,  8.54894652e-01, -1.48731637e+00, -8.94329671e-04,\n",
       "       -3.07758608e-01,  8.80413310e-01,  4.93525643e-01,  2.04200449e-01,\n",
       "       -1.31476214e+00, -8.70167670e-01, -1.69379505e+00,  1.62203487e+00,\n",
       "        2.05272060e+00,  6.45055132e-01,  1.21268528e+00,  1.53984698e+00,\n",
       "       -1.37915384e+00, -1.46444505e+00,  5.56353916e-01, -6.25494679e-01,\n",
       "       -1.79046823e+00,  1.00002069e+00, -1.01646374e+00,  3.06268491e-01,\n",
       "        1.96541322e+00, -1.03950412e-01, -1.04712284e+00, -1.71514011e+00,\n",
       "       -1.61785140e+00,  9.04249078e-01,  1.11260251e+00, -1.68708185e+00,\n",
       "        4.24983249e-01, -1.00571856e+00, -8.01772275e-01,  2.31611720e+00,\n",
       "       -1.34329964e+00, -1.04465063e+00, -5.94503247e-01, -1.00018908e+00,\n",
       "        7.38595493e-01, -1.71253986e+00, -2.32539850e+00, -1.21308667e+00,\n",
       "        4.97594717e-01, -1.22211216e+00, -2.22262784e+00,  3.83290134e-01,\n",
       "       -1.44812346e+00,  2.44098050e+00,  3.78107858e-01, -1.00855783e+00,\n",
       "       -1.44912102e+00,  7.92359220e-01, -1.48731637e+00,  9.97427627e-01,\n",
       "        8.51850662e-01,  1.63363645e+00,  3.37888417e+00,  2.75211253e-02,\n",
       "       -4.11400905e-01, -3.01425981e-01, -7.37406831e-01, -1.42339897e+00,\n",
       "        6.15113115e-01,  1.81812295e+00,  8.82100562e-01, -1.43143843e+00,\n",
       "       -1.86898080e+00,  8.79529511e-01, -1.16430336e+00, -1.18302965e-01,\n",
       "        7.92207664e-01,  9.95079447e-01,  2.00062093e+00,  3.52468681e-01,\n",
       "       -5.17653688e-01, -1.53041538e-01, -1.35264126e+00,  6.27352342e-01,\n",
       "        5.76935676e-01,  1.81763013e+00, -8.59687848e-01, -1.10366928e+00,\n",
       "        7.93171808e-01, -1.20771684e+00, -1.85532491e+00, -1.61419064e+00,\n",
       "        5.56849486e-01, -9.51464786e-01,  8.50645481e-01, -8.93455601e-01,\n",
       "        1.47976474e+00, -2.32539850e+00,  3.51098447e-01, -5.22342840e-01,\n",
       "       -3.53725164e-01,  1.70455971e+00,  5.61098657e-01, -5.89575124e-01,\n",
       "       -1.12494787e+00, -8.99396136e-01,  4.17052586e-02, -5.32313364e-01,\n",
       "        3.02734644e+00,  2.96858724e+00, -1.44462624e+00, -1.08523453e+00,\n",
       "       -1.68139266e+00, -1.11473745e+00,  1.09814867e+00, -5.12505275e-01,\n",
       "        4.33746848e-02, -1.64743585e+00,  9.46408517e-01,  7.98987713e-01,\n",
       "       -1.62440106e+00, -8.63758142e-01, -5.60103153e-01,  7.06447951e-01,\n",
       "        3.21812690e-01, -1.63664276e+00,  1.43906349e+00,  9.38784280e-01,\n",
       "        1.59682314e+00,  5.56983181e-01, -2.62590770e+00, -7.92733299e-01,\n",
       "       -8.60009229e-01,  1.02642751e+00,  9.17559603e-01, -1.86335944e+00,\n",
       "       -7.45334139e-01,  5.56755643e-01, -1.04231121e+00, -5.66873992e-01,\n",
       "       -2.44068503e+00, -8.10551804e-01, -3.12800728e-02, -2.19967587e+00,\n",
       "       -1.02997532e+00,  8.50149911e-01,  4.71187897e-01, -1.10554416e+00,\n",
       "        1.18230976e-01, -1.59152424e+00,  9.98359788e-01,  8.27719353e-02,\n",
       "       -8.96784587e-01, -6.53582568e-01,  2.03798722e-01, -7.37544667e-01,\n",
       "        7.64439506e-01,  6.15608685e-01, -6.08809648e-01, -6.36219520e-01,\n",
       "       -1.43796916e+00,  1.88151293e+00,  4.68215118e-01, -8.63856045e-01,\n",
       "        1.08845368e+00,  1.00442191e+00, -1.04556357e-01, -1.56824211e+00,\n",
       "        1.12598481e+00, -7.70674159e-01,  1.58906331e+00,  8.80158775e-01,\n",
       "        8.53658300e-01, -1.61356775e+00, -1.31278198e+00, -6.37100243e-01,\n",
       "        7.33127083e-01, -2.16432151e+00,  1.34184278e-03, -6.62100437e-01,\n",
       "        2.68848546e+00, -1.68708185e+00,  5.56755643e-01, -1.15449101e+00,\n",
       "        1.44600991e+00,  9.09538375e-01, -6.03805659e-01,  2.89414266e+00,\n",
       "        2.44098050e+00, -9.31038524e-01,  9.38784280e-01, -1.38327990e+00,\n",
       "        7.70331222e-01, -1.16386491e+00,  8.78297655e-01,  2.09197355e+00,\n",
       "       -1.01253806e+00,  2.26380496e+00, -1.48813785e+00, -1.16887538e+00,\n",
       "       -9.16630250e-01,  4.17575726e-01, -1.18061377e+00,  4.40616614e-01,\n",
       "        1.25901844e+00, -1.24757485e+00, -1.54689705e+00,  2.33178322e-01,\n",
       "       -1.51192954e+00, -4.45717468e-01, -2.86094449e+00, -1.72317465e+00,\n",
       "        9.68552108e-01,  7.76700912e-01,  9.09864120e-01,  1.97533776e+00,\n",
       "       -2.06656964e+00, -6.63774535e-01,  9.05132877e-01,  3.23198618e+00,\n",
       "       -2.04747553e+00, -6.72312322e-01,  2.64389913e+00,  9.31472851e-01,\n",
       "        9.68485261e-01, -6.27919623e-01, -4.61786543e-01,  1.66485542e+00,\n",
       "        8.58269718e-01, -1.56564186e+00, -2.34175315e+00,  2.03798722e-01,\n",
       "       -8.08623990e-01,  2.63843447e-01, -5.86326335e-01, -8.30308249e-01,\n",
       "        1.25020670e+00,  1.93517521e+00,  1.08296838e+00, -1.99999104e+00,\n",
       "       -2.18814195e+00, -1.03596544e+00, -9.02989949e-01, -5.40185621e-01,\n",
       "       -9.45170659e-01,  6.39886354e-01, -2.34014624e+00,  9.39574235e-01,\n",
       "       -1.52362592e+00, -1.64966771e+00,  5.27858116e-01, -8.43447866e-01,\n",
       "        1.34995583e+00, -1.81131345e+00, -2.28138704e+00, -3.31734266e-01,\n",
       "        9.06940648e-01, -7.22428766e-01, -1.23896905e+00,  1.06007444e+00,\n",
       "       -1.30079311e+00,  1.23242438e+00, -1.48813785e+00, -1.48813785e+00,\n",
       "        6.33311304e-01,  1.08401552e+00, -2.29874913e+00, -6.78906397e-01,\n",
       "        8.63591976e-02,  1.11522710e+00,  5.86135242e-01, -1.39102524e+00,\n",
       "        1.59848566e+00, -1.74584105e+00, -9.66974705e-02,  1.75887094e+00,\n",
       "       -4.02842918e-01,  1.56756146e+00,  5.22314285e-01,  8.21265882e-01,\n",
       "       -1.56896643e+00, -2.25645428e-01,  6.74689266e-01, -1.33641913e+00,\n",
       "        4.97594717e-01, -1.01710688e+00,  2.94910300e-01,  1.00515422e+00,\n",
       "       -3.40082697e-01,  1.02731131e+00, -1.16878063e+00,  1.72151474e+00,\n",
       "        5.55349599e-01,  7.86730680e-01,  8.69095893e-02, -2.53105569e+00,\n",
       "       -1.34870471e+00,  9.68632453e-01,  1.28333597e+00, -1.45054841e+00,\n",
       "        1.15876542e+00, -1.02518147e-01, -6.65961940e-01,  7.65224928e-01,\n",
       "        7.64582165e-01,  9.17403408e-01,  4.02629592e+00,  2.29969425e+00,\n",
       "       -1.22992762e+00, -1.32426025e+00,  7.62506683e-01, -1.95821144e+00,\n",
       "       -1.29251713e+00,  5.31652210e-01,  7.11358223e-01,  1.12259139e+00,\n",
       "       -1.81131345e+00, -1.20653700e+00,  4.46453287e-01,  1.83782808e+00,\n",
       "        7.06706765e-01,  5.86617315e-01, -8.63343486e-01,  9.16506111e-01,\n",
       "       -1.95821144e+00, -5.60057860e-01,  7.33153758e-01,  2.98954299e-01,\n",
       "       -1.83265851e+00,  3.11548524e+00,  6.00423315e-01,  7.69126042e-01,\n",
       "       -1.09544581e+00,  2.38320426e-01,  2.71115186e+00, -9.86549284e-01,\n",
       "        7.01283452e-01, -8.33963886e-01,  8.98543877e-01,  2.99645432e+00,\n",
       "       -3.02206331e-01,  1.42649400e+00, -2.44004877e-01,  8.21399576e-01,\n",
       "        9.66864855e-01, -4.77770972e-01,  8.77561049e-01,  4.00658079e-01,\n",
       "        9.09310837e-01, -1.27444612e+00, -6.56994143e-01,  5.81694402e-01,\n",
       "        9.95079447e-01,  2.64164829e-01,  5.62317896e-01, -1.43775306e+00,\n",
       "        3.22629043e+00, -6.76705463e-01,  1.86178664e+00, -1.04723913e-01,\n",
       "       -1.84922743e+00,  1.17300344e+00, -1.01025146e+00, -1.30122547e+00,\n",
       "        1.58160779e+00,  9.71882465e-01, -1.07485033e+00, -1.26313753e+00,\n",
       "       -1.51751745e+00, -2.09839624e+00, -1.21714586e+00, -7.90590847e-01,\n",
       "        1.98034024e+00,  7.33127083e-01, -7.08059062e-01, -7.03134964e-01,\n",
       "        1.12606800e-01, -1.27911900e+00,  1.10001972e+00,  9.03137741e-01,\n",
       "        9.38784280e-01, -1.32693176e+00, -1.37916355e+00,  5.27469887e-01,\n",
       "        7.90176397e-01, -1.62700131e+00,  7.65224928e-01,  2.71088830e+00,\n",
       "       -1.60565625e+00, -4.24211942e-01, -4.84215933e-01,  1.72949134e+00])"
      ]
     },
     "execution_count": 20,
     "metadata": {},
     "output_type": "execute_result"
    }
   ],
   "source": [
    "projected_X = X_std.dot(eig_vecs.T[0])\n",
    "projected_X"
   ]
  },
  {
   "cell_type": "code",
   "execution_count": 22,
   "metadata": {},
   "outputs": [],
   "source": [
    "result = pd.DataFrame(projected_X, columns=['PC1'])\n",
    "result['y-axis'] = 0.0\n",
    "result['label'] = y"
   ]
  },
  {
   "cell_type": "code",
   "execution_count": 23,
   "metadata": {},
   "outputs": [
    {
     "data": {
      "text/html": [
       "<div>\n",
       "<style scoped>\n",
       "    .dataframe tbody tr th:only-of-type {\n",
       "        vertical-align: middle;\n",
       "    }\n",
       "\n",
       "    .dataframe tbody tr th {\n",
       "        vertical-align: top;\n",
       "    }\n",
       "\n",
       "    .dataframe thead th {\n",
       "        text-align: right;\n",
       "    }\n",
       "</style>\n",
       "<table border=\"1\" class=\"dataframe\">\n",
       "  <thead>\n",
       "    <tr style=\"text-align: right;\">\n",
       "      <th></th>\n",
       "      <th>PC1</th>\n",
       "      <th>y-axis</th>\n",
       "      <th>label</th>\n",
       "    </tr>\n",
       "  </thead>\n",
       "  <tbody>\n",
       "    <tr>\n",
       "      <td>0</td>\n",
       "      <td>1.202429</td>\n",
       "      <td>0.0</td>\n",
       "      <td>0.0</td>\n",
       "    </tr>\n",
       "    <tr>\n",
       "      <td>1</td>\n",
       "      <td>-0.671786</td>\n",
       "      <td>0.0</td>\n",
       "      <td>1.0</td>\n",
       "    </tr>\n",
       "    <tr>\n",
       "      <td>2</td>\n",
       "      <td>0.680987</td>\n",
       "      <td>0.0</td>\n",
       "      <td>1.0</td>\n",
       "    </tr>\n",
       "    <tr>\n",
       "      <td>3</td>\n",
       "      <td>-0.618817</td>\n",
       "      <td>0.0</td>\n",
       "      <td>1.0</td>\n",
       "    </tr>\n",
       "    <tr>\n",
       "      <td>4</td>\n",
       "      <td>0.468215</td>\n",
       "      <td>0.0</td>\n",
       "      <td>0.0</td>\n",
       "    </tr>\n",
       "  </tbody>\n",
       "</table>\n",
       "</div>"
      ],
      "text/plain": [
       "        PC1  y-axis  label\n",
       "0  1.202429     0.0    0.0\n",
       "1 -0.671786     0.0    1.0\n",
       "2  0.680987     0.0    1.0\n",
       "3 -0.618817     0.0    1.0\n",
       "4  0.468215     0.0    0.0"
      ]
     },
     "execution_count": 23,
     "metadata": {},
     "output_type": "execute_result"
    }
   ],
   "source": [
    "result.head()"
   ]
  },
  {
   "cell_type": "code",
   "execution_count": 25,
   "metadata": {},
   "outputs": [],
   "source": [
    "import matplotlib.pyplot as plt\n",
    "import seaborn as sns\n",
    "%matplotlib inline"
   ]
  },
  {
   "cell_type": "code",
   "execution_count": 26,
   "metadata": {
    "scrolled": true
   },
   "outputs": [
    {
     "data": {
      "text/plain": [
       "Text(0.5, 1, 'PCA Applied To Titanic Dataset')"
      ]
     },
     "execution_count": 26,
     "metadata": {},
     "output_type": "execute_result"
    },
    {
     "data": {
      "image/png": "[encoded data removed]",
      "text/plain": [
       "<Figure size 411.875x360 with 1 Axes>"
      ]
     },
     "metadata": {
      "needs_background": "light"
     },
     "output_type": "display_data"
    }
   ],
   "source": [
    "sns.lmplot('PC1', 'y-axis', data=result, fit_reg=False, \n",
    "           scatter_kws={\"s\":50}, hue=\"label\")\n",
    "# set title\n",
    "plt.title(\"PCA Applied To Titanic Dataset\")"
   ]
  },
  {
   "cell_type": "markdown",
   "metadata": {},
   "source": [
    "## Using PCA of Sklearn"
   ]
  },
  {
   "cell_type": "code",
   "execution_count": 27,
   "metadata": {},
   "outputs": [],
   "source": [
    "from sklearn.decomposition import PCA"
   ]
  },
  {
   "cell_type": "code",
   "execution_count": 29,
   "metadata": {},
   "outputs": [
    {
     "data": {
      "text/plain": [
       "array([[ 1.20242856, -1.03277067, -0.47912886, ..., -0.41141451,\n",
       "        -0.0114627 ,  0.06300828],\n",
       "       [-0.67178641,  1.50907444,  1.53786887, ..., -0.82249007,\n",
       "        -1.17571042, -0.3115767 ],\n",
       "       [ 0.68098724, -0.57805984, -0.20861567, ..., -0.5136111 ,\n",
       "         0.18397347,  0.16615908],\n",
       "       ...,\n",
       "       [-0.42421194,  0.29913639, -0.27817982, ..., -0.47204612,\n",
       "         0.53479644, -1.14891533],\n",
       "       [-0.48421593, -0.10113179,  1.45092125, ...,  0.69251559,\n",
       "        -0.96154699, -0.87111918],\n",
       "       [ 1.72949134, -0.69818752,  4.00273083, ...,  0.11016858,\n",
       "         1.32296011, -0.00600855]])"
      ]
     },
     "execution_count": 29,
     "metadata": {},
     "output_type": "execute_result"
    }
   ],
   "source": [
    "pca = PCA()\n",
    "# This is where we do all of the PCA math(i.e \n",
    "# calculate loading scores and the variation\n",
    "# each PC accounts for)\n",
    "pca.fit(X_std)\n",
    "# Generate coordinates for a PCA graph based on the\n",
    "# loading scores and the scaled data\n",
    "pca_data = pca.transform(X_std)\n",
    "pca_data"
   ]
  },
  {
   "cell_type": "markdown",
   "metadata": {},
   "source": [
    "### Calculate the percentage of variation that each PC"
   ]
  },
  {
   "cell_type": "code",
   "execution_count": 31,
   "metadata": {},
   "outputs": [
    {
     "data": {
      "image/png": "[encoded data removed]",
      "text/plain": [
       "<Figure size 432x288 with 1 Axes>"
      ]
     },
     "metadata": {
      "needs_background": "light"
     },
     "output_type": "display_data"
    }
   ],
   "source": [
    "per_var = np.round(pca.explained_variance_ratio_*100, decimals=1)\n",
    "labels = ['PC'+str(x) for x in range(1, len(per_var)+1)]\n",
    "\n",
    "plt.bar(x=range(1, len(per_var)+1), height=per_var, tick_label= labels)\n",
    "plt.ylabel(\"Percentage of Explained Variance\")\n",
    "plt.xlabel(\"Principal Component\")\n",
    "plt.title(\"Scree Plot\")\n",
    "plt.show()"
   ]
  },
  {
   "cell_type": "markdown",
   "metadata": {},
   "source": [
    "### To draw a PCA Plot"
   ]
  },
  {
   "cell_type": "code",
   "execution_count": 34,
   "metadata": {},
   "outputs": [],
   "source": [
    "# first put the new coordinates into a nice matrix where the rows\n",
    "# have sample labels and the columns have PC labels.\n",
    "pca_df = pd.DataFrame(pca_data, index=[X.index], columns=labels)"
   ]
  },
  {
   "cell_type": "code",
   "execution_count": 50,
   "metadata": {
    "scrolled": true
   },
   "outputs": [
    {
     "data": {
      "text/plain": [
       "Text(-0.6717864110378873, -0.6981875170379409, '(1,)')"
      ]
     },
     "execution_count": 50,
     "metadata": {},
     "output_type": "execute_result"
    },
    {
     "data": {
      "image/png": "[encoded data removed]",
      "text/plain": [
       "<Figure size 800x800 with 1 Axes>"
      ]
     },
     "metadata": {},
     "output_type": "display_data"
    }
   ],
   "source": [
    "from matplotlib.pyplot import figure\n",
    "figure(num=None, figsize=(10, 10), dpi=80, facecolor='w', edgecolor='k')\n",
    "\n",
    "plt.scatter(pca_df.PC1, pca_df.PC2)\n",
    "plt.title(\"My PCA Graph\")\n",
    "plt.xlabel(\"PC1 - {0}%\".format(per_var[0]))\n",
    "plt.ylabel(\"PC2 - {0}%\".format(per_var[1]))\n",
    "\n",
    "# This loop adds sample names to the Graph\n",
    "# for sample in pca_df.index:\n",
    "#     plt.annotate(sample, (pca_df.PC1.loc[sample], pca_df.PC2.loc[sample]))\n",
    "plt.annotate(pca_df.index[0], (pca_df.PC1.loc[pca_df.index[0]], pca_df.PC2.loc[sample]))\n",
    "plt.annotate(pca_df.index[1], (pca_df.PC1.loc[pca_df.index[1]], pca_df.PC2.loc[sample]))\n",
    "                "
   ]
  }
 ],
 "metadata": {
  "kernelspec": {
   "display_name": "venv",
   "language": "python",
   "name": "venv"
  },
  "language_info": {
   "codemirror_mode": {
    "name": "ipython",
    "version": 3
   },
   "file_extension": ".py",
   "mimetype": "text/x-python",
   "name": "python",
   "nbconvert_exporter": "python",
   "pygments_lexer": "ipython3",
   "version": "3.7.4"
  }
 },
 "nbformat": 4,
 "nbformat_minor": 2
}
